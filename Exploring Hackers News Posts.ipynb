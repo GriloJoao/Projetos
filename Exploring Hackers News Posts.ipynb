{
 "cells": [
  {
   "cell_type": "markdown",
   "metadata": {},
   "source": [
    "# Exploring Hackers News Posts"
   ]
  },
  {
   "cell_type": "markdown",
   "metadata": {},
   "source": [
    "In this project, we'll compare two different types of posts from [Hacker News](https://news.ycombinator.com/), a popular site where technology related stories (or 'posts') are voted and commented upon. The two types of posts we'll explore begin with either Ask HN or Show HN.\n",
    "\n",
    "Users submit Ask HN posts to ask the Hacker News community a specific question, such as \"What is the best online course you've ever taken?\" Likewise, users submit Show HN posts to show the Hacker News community a project, product, or just generally something interesting.\n",
    "\n",
    "We'll specifically compare these two types of posts to determine the following:\n",
    "\n",
    "- Do Ask HN or Show HN receive more comments on average?\n",
    "- Do posts created at a certain time receive more comments on average?\n",
    "\n",
    "It should be noted that the data set we're working with was reduced from almost 300,000 rows to approximately 20,000 rows by removing all submissions that did not receive any comments, and then randomly sampling from the remaining submissions."
   ]
  },
  {
   "cell_type": "markdown",
   "metadata": {},
   "source": [
    "## Introduction\n",
    "First, we'll read in the data and remove the headers."
   ]
  },
  {
   "cell_type": "code",
   "execution_count": 1,
   "metadata": {},
   "outputs": [
    {
     "data": {
      "text/plain": [
       "[['id', 'title', 'url', 'num_points', 'num_comments', 'author', 'created_at'],\n",
       " ['12224879',\n",
       "  'Interactive Dynamic Video',\n",
       "  'http://www.interactivedynamicvideo.com/',\n",
       "  '386',\n",
       "  '52',\n",
       "  'ne0phyte',\n",
       "  '8/4/2016 11:52'],\n",
       " ['10975351',\n",
       "  'How to Use Open Source and Shut the Fuck Up at the Same Time',\n",
       "  'http://hueniverse.com/2016/01/26/how-to-use-open-source-and-shut-the-fuck-up-at-the-same-time/',\n",
       "  '39',\n",
       "  '10',\n",
       "  'josep2',\n",
       "  '1/26/2016 19:30'],\n",
       " ['11964716',\n",
       "  \"Florida DJs May Face Felony for April Fools' Water Joke\",\n",
       "  'http://www.thewire.com/entertainment/2013/04/florida-djs-april-fools-water-joke/63798/',\n",
       "  '2',\n",
       "  '1',\n",
       "  'vezycash',\n",
       "  '6/23/2016 22:20'],\n",
       " ['11919867',\n",
       "  'Technology ventures: From Idea to Enterprise',\n",
       "  'https://www.amazon.com/Technology-Ventures-Enterprise-Thomas-Byers/dp/0073523429',\n",
       "  '3',\n",
       "  '1',\n",
       "  'hswarna',\n",
       "  '6/17/2016 0:01']]"
      ]
     },
     "execution_count": 1,
     "metadata": {},
     "output_type": "execute_result"
    }
   ],
   "source": [
    "# Read in the data.\n",
    "from csv import reader\n",
    "\n",
    "open_file = open('hacker_news.csv')\n",
    "read_file = reader(open_file)\n",
    "hn = list(read_file)\n",
    "\n",
    "hn[:5]"
   ]
  },
  {
   "cell_type": "markdown",
   "metadata": {},
   "source": [
    "## Removing Headers from a List of Lists"
   ]
  },
  {
   "cell_type": "code",
   "execution_count": 2,
   "metadata": {},
   "outputs": [
    {
     "name": "stdout",
     "output_type": "stream",
     "text": [
      "['id', 'title', 'url', 'num_points', 'num_comments', 'author', 'created_at']\n",
      "['12224879', 'Interactive Dynamic Video', 'http://www.interactivedynamicvideo.com/', '386', '52', 'ne0phyte', '8/4/2016 11:52']\n",
      "\n",
      "\n",
      "['10975351', 'How to Use Open Source and Shut the Fuck Up at the Same Time', 'http://hueniverse.com/2016/01/26/how-to-use-open-source-and-shut-the-fuck-up-at-the-same-time/', '39', '10', 'josep2', '1/26/2016 19:30']\n",
      "\n",
      "\n",
      "['11964716', \"Florida DJs May Face Felony for April Fools' Water Joke\", 'http://www.thewire.com/entertainment/2013/04/florida-djs-april-fools-water-joke/63798/', '2', '1', 'vezycash', '6/23/2016 22:20']\n",
      "\n",
      "\n",
      "['11919867', 'Technology ventures: From Idea to Enterprise', 'https://www.amazon.com/Technology-Ventures-Enterprise-Thomas-Byers/dp/0073523429', '3', '1', 'hswarna', '6/17/2016 0:01']\n",
      "\n",
      "\n",
      "['10301696', 'Note by Note: The Making of Steinway L1037 (2007)', 'http://www.nytimes.com/2007/11/07/movies/07stein.html?_r=0', '8', '2', 'walterbell', '9/30/2015 4:12']\n",
      "\n",
      "\n"
     ]
    }
   ],
   "source": [
    "# Isolate the headers.\n",
    "headers = hn[0]\n",
    "hn = hn[1:]\n",
    "print(headers)\n",
    "for row in hn[:5]:\n",
    "    print(row)\n",
    "    print('\\n')\n"
   ]
  },
  {
   "cell_type": "markdown",
   "metadata": {},
   "source": [
    "We can see above that the data set contains the title of the posts, the number of comments for each post, and the date the post was created. Let's start by exploring the number of comments for each type of post."
   ]
  },
  {
   "cell_type": "markdown",
   "metadata": {},
   "source": [
    "## Extracting Ask HN and Show HN Posts\n",
    "First, we'll identify posts that begin with either Ask HN or Show HN and separate the data for those two types of posts into different lists. Separating the data makes it easier to analyze in the following steps."
   ]
  },
  {
   "cell_type": "code",
   "execution_count": 3,
   "metadata": {},
   "outputs": [
    {
     "name": "stdout",
     "output_type": "stream",
     "text": [
      "Número de linhas:\n",
      "ask_posts = 1744\n",
      "show_posts = 1162\n",
      "other_posts = 17194\n"
     ]
    }
   ],
   "source": [
    "# Identify posts that begin with either `Ask HN` or `Show HN` and separate the data into different lists.\n",
    "ask_posts = list()\n",
    "show_posts = list()\n",
    "other_posts = list()\n",
    "\n",
    "for row in hn:\n",
    "    title = row[1].lower()\n",
    "    \n",
    "    if title.startswith('ask hn'):\n",
    "        ask_posts.append(row)\n",
    "    elif title.startswith('show hn'):\n",
    "        show_posts.append(row)\n",
    "    else:\n",
    "        other_posts.append(row)\n",
    "\n",
    "print('Número de linhas:')\n",
    "print(f'ask_posts = {len(ask_posts)}')\n",
    "print(f'show_posts = {len(show_posts)}')\n",
    "print(f'other_posts = {len(other_posts)}')"
   ]
  },
  {
   "cell_type": "markdown",
   "metadata": {},
   "source": [
    "## Exploring the first five posts of Ask hn and Show hn\n",
    "Below are the first five rows in the ask_posts and show_posts list of lists:"
   ]
  },
  {
   "cell_type": "code",
   "execution_count": 4,
   "metadata": {},
   "outputs": [
    {
     "name": "stdout",
     "output_type": "stream",
     "text": [
      "['12296411', 'Ask HN: How to improve my personal website?', '', '2', '6', 'ahmedbaracat', '8/16/2016 9:55']\n",
      "\n",
      "\n",
      "['10610020', 'Ask HN: Am I the only one outraged by Twitter shutting down share counts?', '', '28', '29', 'tkfx', '11/22/2015 13:43']\n",
      "\n",
      "\n",
      "['11610310', 'Ask HN: Aby recent changes to CSS that broke mobile?', '', '1', '1', 'polskibus', '5/2/2016 10:14']\n",
      "\n",
      "\n",
      "['12210105', 'Ask HN: Looking for Employee #3 How do I do it?', '', '1', '3', 'sph130', '8/2/2016 14:20']\n",
      "\n",
      "\n",
      "['10394168', 'Ask HN: Someone offered to buy my browser extension from me. What now?', '', '28', '17', 'roykolak', '10/15/2015 16:38']\n",
      "\n",
      "\n"
     ]
    }
   ],
   "source": [
    "for row in ask_posts[:5]:\n",
    "    print(row)\n",
    "    print('\\n')"
   ]
  },
  {
   "cell_type": "code",
   "execution_count": 5,
   "metadata": {},
   "outputs": [
    {
     "name": "stdout",
     "output_type": "stream",
     "text": [
      "['10627194', 'Show HN: Wio Link  ESP8266 Based Web of Things Hardware Development Platform', 'https://iot.seeed.cc', '26', '22', 'kfihihc', '11/25/2015 14:03']\n",
      "\n",
      "\n",
      "['10646440', 'Show HN: Something pointless I made', 'http://dn.ht/picklecat/', '747', '102', 'dhotson', '11/29/2015 22:46']\n",
      "\n",
      "\n",
      "['11590768', 'Show HN: Shanhu.io, a programming playground powered by e8vm', 'https://shanhu.io', '1', '1', 'h8liu', '4/28/2016 18:05']\n",
      "\n",
      "\n",
      "['12178806', 'Show HN: Webscope  Easy way for web developers to communicate with Clients', 'http://webscopeapp.com', '3', '3', 'fastbrick', '7/28/2016 7:11']\n",
      "\n",
      "\n",
      "['10872799', 'Show HN: GeoScreenshot  Easily test Geo-IP based web pages', 'https://www.geoscreenshot.com/', '1', '9', 'kpsychwave', '1/9/2016 20:45']\n",
      "\n",
      "\n"
     ]
    }
   ],
   "source": [
    "for row in show_posts[:5]:\n",
    "    print(row)\n",
    "    print('\\n')"
   ]
  },
  {
   "cell_type": "markdown",
   "metadata": {},
   "source": [
    "## Calculating the Average Number of Comments for Ask HN and Show HN Posts\n",
    "Now that we separated ask posts and show posts into different lists, we'll calculate the average number of comments each type of post receives."
   ]
  },
  {
   "cell_type": "code",
   "execution_count": 6,
   "metadata": {},
   "outputs": [
    {
     "name": "stdout",
     "output_type": "stream",
     "text": [
      "avg_ask_comments = 14.04\n"
     ]
    }
   ],
   "source": [
    "# Calculate the average number of comments `Ask HN` posts receive.\n",
    "total_ask_comments = 0\n",
    "\n",
    "for row in ask_posts:\n",
    "    post_comments = int(row[4])\n",
    "    total_ask_comments += post_comments\n",
    "\n",
    "avg_ask_comments = total_ask_comments / len(ask_posts)\n",
    "print(f'avg_ask_comments = {avg_ask_comments:.2f}')"
   ]
  },
  {
   "cell_type": "code",
   "execution_count": 7,
   "metadata": {},
   "outputs": [
    {
     "name": "stdout",
     "output_type": "stream",
     "text": [
      "avg_show_comments = 10.32\n"
     ]
    }
   ],
   "source": [
    "# Calculate the average number of comments `Show HN` posts receive.\n",
    "total_show_comments = 0\n",
    "\n",
    "for row in show_posts:\n",
    "    post_comments = int(row[4])\n",
    "    total_show_comments += post_comments\n",
    "    \n",
    "avg_show_comments = total_show_comments / len(show_posts)\n",
    "print(f'avg_show_comments = {avg_show_comments:.2f}')"
   ]
  },
  {
   "cell_type": "markdown",
   "metadata": {},
   "source": [
    "On average, ask posts in our sample receive approximately 14 comments, whereas show posts receive approximately 10. Since ask posts are more likely to receive comments, we'll focus our remaining analysis just on these posts."
   ]
  },
  {
   "cell_type": "markdown",
   "metadata": {},
   "source": [
    "## Finding the Amount of Ask Posts and Comments by Hour Created\n",
    "Next, we'll determine if we can maximize the amount of comments an ask post receives by creating it at a certain time. First, we'll find the amount of ask posts created during each hour of day, along with the number of comments those posts received. Then, we'll calculate the average amount of comments ask posts created at each hour of the day receive."
   ]
  },
  {
   "cell_type": "code",
   "execution_count": 8,
   "metadata": {
    "scrolled": true
   },
   "outputs": [
    {
     "name": "stdout",
     "output_type": "stream",
     "text": [
      "0 = 447\n",
      "1 = 683\n",
      "2 = 1381\n",
      "3 = 421\n",
      "4 = 337\n",
      "5 = 464\n",
      "6 = 397\n",
      "7 = 267\n",
      "8 = 492\n",
      "9 = 251\n",
      "10 = 793\n",
      "11 = 641\n",
      "12 = 687\n",
      "13 = 1253\n",
      "14 = 1416\n",
      "15 = 4477\n",
      "16 = 1814\n",
      "17 = 1146\n",
      "18 = 1439\n",
      "19 = 1188\n",
      "20 = 1722\n",
      "21 = 1745\n",
      "22 = 479\n",
      "23 = 543\n"
     ]
    }
   ],
   "source": [
    "# Calculate the amount of ask posts created during each hour of the day and the number of comments received.\n",
    "import datetime as dt\n",
    "\n",
    "result_list = list()\n",
    "\n",
    "for row in ask_posts:\n",
    "    result_list.append([row[6], int(row[4])])\n",
    "\n",
    "\n",
    "comments_by_hour = dict()\n",
    "counts_by_hour = dict()\n",
    "date_format = \"%m/%d/%Y %H:%M\" # According to our date column format\n",
    "\n",
    "for row in result_list:\n",
    "    date_str = row[0]\n",
    "    comments = int(row[1])\n",
    "    \n",
    "    # Converting the date string to a datetime object and filter by hour\n",
    "    datetime_object = dt.datetime.strptime(date_str, date_format)\n",
    "    datetime_hour = datetime_object.hour\n",
    "    \n",
    "    if datetime_hour not in counts_by_hour:\n",
    "        counts_by_hour[datetime_hour] = 1\n",
    "        comments_by_hour[datetime_hour] = comments\n",
    "    else:\n",
    "        counts_by_hour[datetime_hour] += 1\n",
    "        comments_by_hour[datetime_hour] += comments\n",
    "    \n",
    "for keys, values in sorted(comments_by_hour.items()):\n",
    "    print(f'{keys} = {values}')"
   ]
  },
  {
   "cell_type": "markdown",
   "metadata": {},
   "source": [
    "## Calculating the Average Number of Comments for Ask HN Posts by Hour"
   ]
  },
  {
   "cell_type": "code",
   "execution_count": 9,
   "metadata": {},
   "outputs": [
    {
     "data": {
      "text/plain": [
       "[[9, 5.5777777777777775],\n",
       " [13, 14.741176470588234],\n",
       " [10, 13.440677966101696],\n",
       " [14, 13.233644859813085],\n",
       " [16, 16.796296296296298],\n",
       " [23, 7.985294117647059],\n",
       " [12, 9.41095890410959],\n",
       " [17, 11.46],\n",
       " [15, 38.5948275862069],\n",
       " [21, 16.009174311926607],\n",
       " [20, 21.525],\n",
       " [2, 23.810344827586206],\n",
       " [18, 13.20183486238532],\n",
       " [3, 7.796296296296297],\n",
       " [5, 10.08695652173913],\n",
       " [19, 10.8],\n",
       " [1, 11.383333333333333],\n",
       " [22, 6.746478873239437],\n",
       " [8, 10.25],\n",
       " [4, 7.170212765957447],\n",
       " [0, 8.127272727272727],\n",
       " [6, 9.022727272727273],\n",
       " [7, 7.852941176470588],\n",
       " [11, 11.051724137931034]]"
      ]
     },
     "execution_count": 9,
     "metadata": {},
     "output_type": "execute_result"
    }
   ],
   "source": [
    "# Calculate the average amount of comments `Ask HN` posts created at each hour of the day receive.\n",
    "avg_by_hour = list()\n",
    "\n",
    "for keys, values in comments_by_hour.items():\n",
    "    avg_by_hour.append([keys, values / counts_by_hour[keys]])\n",
    "\n",
    "avg_by_hour"
   ]
  },
  {
   "cell_type": "markdown",
   "metadata": {},
   "source": [
    "## Sorting and Printing Values from a List of Lists"
   ]
  },
  {
   "cell_type": "code",
   "execution_count": 10,
   "metadata": {},
   "outputs": [
    {
     "name": "stdout",
     "output_type": "stream",
     "text": [
      "15H = 38.59\n",
      "2H = 23.81\n",
      "20H = 21.52\n",
      "16H = 16.80\n",
      "21H = 16.01\n",
      "13H = 14.74\n",
      "10H = 13.44\n",
      "14H = 13.23\n",
      "18H = 13.20\n",
      "17H = 11.46\n",
      "1H = 11.38\n",
      "11H = 11.05\n",
      "19H = 10.80\n",
      "8H = 10.25\n",
      "5H = 10.09\n",
      "12H = 9.41\n",
      "6H = 9.02\n",
      "0H = 8.13\n",
      "23H = 7.99\n",
      "7H = 7.85\n",
      "3H = 7.80\n",
      "4H = 7.17\n",
      "22H = 6.75\n",
      "9H = 5.58\n"
     ]
    }
   ],
   "source": [
    "from operator import itemgetter\n",
    "\n",
    "avg_by_hour_sorted = sorted(avg_by_hour, key=itemgetter(1), reverse=True)\n",
    "\n",
    "for hr, avg in avg_by_hour_sorted:\n",
    "    print(f'{hr}H = {avg:.2f}')"
   ]
  },
  {
   "cell_type": "code",
   "execution_count": 11,
   "metadata": {},
   "outputs": [
    {
     "name": "stdout",
     "output_type": "stream",
     "text": [
      "Top 5 Hours for Ask Posts Comments\n",
      "15:00H = 38.59 average comments per post\n",
      "02:00H = 23.81 average comments per post\n",
      "20:00H = 21.52 average comments per post\n",
      "16:00H = 16.80 average comments per post\n",
      "21:00H = 16.01 average comments per post\n"
     ]
    }
   ],
   "source": [
    "# Sort the values and print the the 5 hours with the highest average comments.\n",
    "print(\"Top 5 Hours for Ask Posts Comments\")\n",
    "\n",
    "for hr in avg_by_hour_sorted[:5]:\n",
    "    datetime_object = dt.datetime.strptime(str(hr[0]), \"%H\")\n",
    "    datetime_object_format = datetime_object.strftime(\"%H:%MH\")\n",
    "    \n",
    "    print(f'{datetime_object_format} = {hr[1]:.2f} average comments per post')"
   ]
  },
  {
   "cell_type": "markdown",
   "metadata": {},
   "source": [
    "The hour that receives the most comments per post on average is 15:00, with an average of 38.59 comments per post. There's about a 60% increase in the number of comments between the hours with the highest and second highest average number of comments.\n",
    "\n",
    "According to the data set [documentation](https://www.kaggle.com/hacker-news/hacker-news-posts/home), the timezone used is Eastern Time in the US. So, we could also write 15:00 as 3:00 pm est. That corresponds to 20:00 in Portugal timezone (UTC+00:00) Dublin, Edimburgo, Lisboa, Londres)."
   ]
  },
  {
   "cell_type": "markdown",
   "metadata": {},
   "source": [
    "## Addition: Explore if show or ask posts receive more points on average\n",
    "\n",
    "We can also explore if show or ask posts receive more points on average, by analyzing row 3."
   ]
  },
  {
   "cell_type": "code",
   "execution_count": 12,
   "metadata": {},
   "outputs": [
    {
     "name": "stdout",
     "output_type": "stream",
     "text": [
      "15.061926605504587\n"
     ]
    }
   ],
   "source": [
    "ask_tot_num_points = 0\n",
    "for row in ask_posts:\n",
    "    num_points = int(row[3])\n",
    "    ask_tot_num_points += num_points\n",
    "    \n",
    "ask_avg_num_points = ask_tot_num_points / len(ask_posts)\n",
    "print(ask_avg_num_points)"
   ]
  },
  {
   "cell_type": "code",
   "execution_count": 13,
   "metadata": {},
   "outputs": [
    {
     "name": "stdout",
     "output_type": "stream",
     "text": [
      "27.555077452667813\n"
     ]
    }
   ],
   "source": [
    "show_tot_num_points = 0\n",
    "for row in show_posts:\n",
    "    num_points = int(row[3])\n",
    "    show_tot_num_points += num_points\n",
    "    \n",
    "show_avg_num_points = show_tot_num_points / len(show_posts)\n",
    "print(show_avg_num_points)"
   ]
  },
  {
   "cell_type": "markdown",
   "metadata": {},
   "source": [
    "From above, we can see that show posts receive more points on average than ask posts (27.6 > 15.1). Therefore, let's focus our attention now on show posts."
   ]
  },
  {
   "cell_type": "markdown",
   "metadata": {},
   "source": [
    "## Finding the Amount of Show Posts and Points by Hour Created"
   ]
  },
  {
   "cell_type": "code",
   "execution_count": 14,
   "metadata": {},
   "outputs": [
    {
     "name": "stdout",
     "output_type": "stream",
     "text": [
      "14H = 2187\n",
      "22H = 1856\n",
      "18H = 2215\n",
      "7H = 494\n",
      "20H = 1819\n",
      "5H = 104\n",
      "16H = 2634\n",
      "19H = 1702\n",
      "15H = 2228\n",
      "3H = 679\n",
      "17H = 2521\n",
      "6H = 375\n",
      "2H = 340\n",
      "13H = 2438\n",
      "8H = 519\n",
      "21H = 866\n",
      "4H = 386\n",
      "11H = 1480\n",
      "12H = 2543\n",
      "23H = 1526\n",
      "9H = 553\n",
      "1H = 700\n",
      "10H = 681\n",
      "0H = 1173\n"
     ]
    }
   ],
   "source": [
    "show_counts_by_hour = dict()\n",
    "show_points_by_hour = dict()\n",
    "\n",
    "date_format = \"%m/%d/%Y %H:%M\"\n",
    "\n",
    "for row in show_posts:\n",
    "    time = row[-1]\n",
    "    points = int(row[3])\n",
    "    \n",
    "    datetime_object = dt.datetime.strptime(time, date_format).hour\n",
    "    \n",
    "    if datetime_object not in show_counts_by_hour:\n",
    "        show_counts_by_hour[datetime_object] = 1\n",
    "        show_points_by_hour[datetime_object] = points\n",
    "    else:\n",
    "        show_counts_by_hour[datetime_object] += 1\n",
    "        show_points_by_hour[datetime_object] += points\n",
    "\n",
    "for keys, values in show_points_by_hour.items():\n",
    "    print(f'{keys}H = {values}')"
   ]
  },
  {
   "cell_type": "markdown",
   "metadata": {},
   "source": [
    "## Calculating the Average Number of Points for Show HN Posts by Hour"
   ]
  },
  {
   "cell_type": "code",
   "execution_count": 15,
   "metadata": {},
   "outputs": [
    {
     "name": "stdout",
     "output_type": "stream",
     "text": [
      "23:00H = 42.39\n",
      "12:00H = 41.69\n",
      "22:00H = 40.35\n",
      "0:00H = 37.84\n",
      "18:00H = 36.31\n",
      "11:00H = 33.64\n",
      "19:00H = 30.95\n",
      "20:00H = 30.32\n",
      "15:00H = 28.56\n",
      "16:00H = 28.32\n",
      "17:00H = 27.11\n",
      "14:00H = 25.43\n",
      "3:00H = 25.15\n",
      "1:00H = 25.00\n",
      "13:00H = 24.63\n",
      "6:00H = 23.44\n",
      "7:00H = 19.00\n",
      "10:00H = 18.92\n",
      "9:00H = 18.43\n",
      "21:00H = 18.43\n",
      "8:00H = 15.26\n",
      "4:00H = 14.85\n",
      "2:00H = 11.33\n",
      "5:00H = 5.47\n"
     ]
    }
   ],
   "source": [
    "# New empty dictionary to hold the new information\n",
    "avg_show_points_hour = dict()\n",
    "\n",
    "for hour, points in show_points_by_hour.items():\n",
    "    avg_show_points_hour[hour] = points / show_counts_by_hour[hour]\n",
    "\n",
    "\n",
    "# Sorting the new dictionary by descending order, according to the average points by hour\n",
    "avg_show_points_hour_sorted = sorted(avg_show_points_hour.items(), key=itemgetter(1), reverse=True)\n",
    "\n",
    "for hour, avg in avg_show_points_hour_sorted:\n",
    "    print(f'{hour}:00H = {avg:.2f}')"
   ]
  },
  {
   "cell_type": "markdown",
   "metadata": {},
   "source": [
    "Analyzing the results presented above, we can see that the hour that receives more points on average is 23:00H. Nevertheless, very similar results can be found at 12:00H and 22:00H. So, when considering the show points, the difference between the top 5 hours with higher average isn't as clear as the results we have seen for the ask posts average comments, where the second higher average hour had about 60% less comments than the first."
   ]
  },
  {
   "cell_type": "markdown",
   "metadata": {},
   "source": [
    "## Conclusion\n",
    "In this project, we analyzed ask posts and show posts to determine which type of post and time receive the most comments on average. Based on our analysis, to maximize the amount of comments a post receives, we'd recommend the post be categorized as ask post and created between 15:00 and 16:00 (3:00 pm est - 4:00 pm est).\n",
    "\n",
    "However, it should be noted that the data set we analyzed excluded posts without any comments. Given that, it's more accurate to say that of the posts that received comments, ask posts received more comments on average and ask posts created between 15:00 and 16:00 (3:00 pm est - 4:00 pm est) received the most comments on average.\n",
    "\n",
    "In addition, we have also analyzed the average number points received by show posts by hour."
   ]
  }
 ],
 "metadata": {
  "kernelspec": {
   "display_name": "Python 3",
   "language": "python",
   "name": "python3"
  },
  "language_info": {
   "codemirror_mode": {
    "name": "ipython",
    "version": 3
   },
   "file_extension": ".py",
   "mimetype": "text/x-python",
   "name": "python",
   "nbconvert_exporter": "python",
   "pygments_lexer": "ipython3",
   "version": "3.8.3"
  }
 },
 "nbformat": 4,
 "nbformat_minor": 4
}
